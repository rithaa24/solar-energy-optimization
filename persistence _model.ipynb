{
 "cells": [
  {
   "cell_type": "markdown",
   "id": "74401843-9656-4199-88fc-6c222ccd5553",
   "metadata": {},
   "source": [
    "**Persistence Model**"
   ]
  },
  {
   "cell_type": "code",
   "execution_count": 3,
   "id": "79855076-bff8-42c9-ae64-9f3308ba5b87",
   "metadata": {},
   "outputs": [],
   "source": [
    "import pandas as pd\n",
    "import numpy as np\n",
    "import os"
   ]
  },
  {
   "cell_type": "code",
   "execution_count": 4,
   "id": "7cdb64f3-4e8d-43a7-bf89-43e051b5e5e6",
   "metadata": {},
   "outputs": [],
   "source": [
    "from sklearn.model_selection import train_test_split\n",
    "from sklearn.metrics import mean_absolute_error\n",
    "from sklearn.metrics import mean_squared_error\n",
    "from sklearn.metrics import r2_score\n",
    "from sklearn.linear_model import LinearRegression"
   ]
  },
  {
   "cell_type": "code",
   "execution_count": 5,
   "id": "727bd334-6225-4e2b-b9a0-2cd198ff5859",
   "metadata": {},
   "outputs": [],
   "source": [
    "def max_error(y_ref,y_test):\n",
    "    y_test = np.array(y_test)\n",
    "    y_ref = np.array(y_ref)\n",
    "    y_mean = np.mean(y_ref)\n",
    "    return np.max(np.divide(np.abs(y_test-y_ref), y_mean))"
   ]
  },
  {
   "cell_type": "code",
   "execution_count": 6,
   "id": "0189256a-36ee-4b13-aea9-be9e0db7d9ab",
   "metadata": {},
   "outputs": [],
   "source": [
    "def median_error(y_ref, y_test):\n",
    "    y_test = np.array(y_test)\n",
    "    y_ref = np.array(y_ref)\n",
    "    y_mean = np.mean(y_ref)\n",
    "    return np.median(np.divide(np.abs(y_test-y_ref), y_mean))"
   ]
  },
  {
   "cell_type": "code",
   "execution_count": 7,
   "id": "144aa823-1fd1-49f7-b394-8818419381cb",
   "metadata": {},
   "outputs": [],
   "source": [
    "def MBE(y_ref,y_test):\n",
    "    mbe = np.sum(y_test-y_ref)/len(y_ref)\n",
    "    return mbe"
   ]
  },
  {
   "cell_type": "code",
   "execution_count": 8,
   "id": "803a8d25-bf22-47a8-bc4b-fddd089e5e90",
   "metadata": {},
   "outputs": [],
   "source": [
    "def invTransform(scaler, data, colName, colNames):\n",
    "    dummy = pd.DataFrame(np.zeros((len(data), len(colNames))), columns=colNames)\n",
    "    dummy[colName] = data\n",
    "    dummy = pd.DataFrame(scaler.inverse_transform(dummy), columns=colNames)\n",
    "    return dummy[colName].values"
   ]
  },
  {
   "cell_type": "code",
   "execution_count": 9,
   "id": "0582968c-3178-49eb-9f88-2c0a5dcc7a0e",
   "metadata": {},
   "outputs": [],
   "source": [
    "def mean_absolute_percentage_error(y_true, y_pred):\n",
    "    y_true = np.array(y_true)\n",
    "    y_pred = np.array(y_pred)\n",
    "    mask = y_true != 0\n",
    "    y_true_nonzero = y_true[mask]\n",
    "    y_pred_nonzero = y_pred[mask]\n",
    "    percentage_errors = np.abs((y_true_nonzero - y_pred_nonzero) / y_true_nonzero)\n",
    "    mape = np.mean(percentage_errors) * 100.0\n",
    "\n",
    "    return mape"
   ]
  },
  {
   "cell_type": "code",
   "execution_count": 16,
   "id": "4e65438b-59e2-427e-a277-569ab7879e23",
   "metadata": {},
   "outputs": [],
   "source": [
    "data_dir = 'C:\\\\Users\\\\shari\\\\Desktop\\\\MNRE\\\\reports'\n",
    "reportPersistence_dir = 'C:\\\\Users\\\\shari\\\\Desktop\\\\MNRE\\\\persistence'\n",
    "samplingFrequencies_eng = [\"15_minutes\", \"30_minutes\", \"45_minutes\", \"1_hour\", \"2_hours\",\n",
    "                            \"4_hours\", \"6_hours\", \"12_hours\", \"24_hours\", \"48_hours\",\n",
    "                            \"72_hours\", \"4_days\", \"5_days\", \"6_days\", \"7_days\"]"
   ]
  },
  {
   "cell_type": "code",
   "execution_count": 17,
   "id": "28561322-7adf-4759-ba42-ded5c609949d",
   "metadata": {},
   "outputs": [],
   "source": [
    "if not os.path.exists(reportPersistence_dir):\n",
    "    os.makedirs(reportPersistence_dir)"
   ]
  },
  {
   "cell_type": "code",
   "execution_count": 18,
   "id": "f991fab4-2335-4204-8eee-e53a8ee5fcf6",
   "metadata": {},
   "outputs": [],
   "source": [
    "persistenceResult_df = pd.DataFrame(columns=['samplingFrequency', 'accuracy', 'MAPE', 'RMSE',\n",
    "                                             'nRMSE', 'MAE', 'nMAE', 'R2', 'MBE', 'maxNormError'])"
   ]
  },
  {
   "cell_type": "code",
   "execution_count": 19,
   "id": "0084e785-3231-4962-965d-5f92876d9860",
   "metadata": {},
   "outputs": [
    {
     "name": "stdout",
     "output_type": "stream",
     "text": [
      "Persistence performance report exported to C:\\Users\\shari\\Desktop\\MNRE\\persistence\\persistence_results.csv\n"
     ]
    }
   ],
   "source": [
    "for k, samplingFrequency in enumerate(samplingFrequencies_eng):\n",
    "    file_path = os.path.join(data_dir, f'GHI_sampled_{samplingFrequency}.csv')\n",
    "    if os.path.exists(file_path):\n",
    "        data_df = pd.read_csv(file_path, index_col=0)\n",
    "        y = data_df['GHI'].values\n",
    "        y_train, y_test = train_test_split(y, test_size=0.2, shuffle=False)\n",
    "        y_validation, y_test = train_test_split(y_test, test_size=0.5, shuffle=False)\n",
    "        pred = np.roll(y_test, shift=1)[1:]\n",
    "        test = y_test[1:]\n",
    "        persistenceResult_df.loc[k, 'samplingFrequency'] = samplingFrequency\n",
    "        persistenceResult_df.loc[k, 'accuracy'] = np.mean(np.abs(pred - test))  # Accuracy\n",
    "        persistenceResult_df.loc[k, 'MAPE'] = mean_absolute_percentage_error(test, pred)  # MAPE\n",
    "        persistenceResult_df.loc[k, 'RMSE'] = np.sqrt(mean_squared_error(test, pred))  # RMSE\n",
    "        persistenceResult_df.loc[k, 'nRMSE'] = np.sqrt(mean_squared_error(test, pred)) / np.mean(test)  # nRMSE\n",
    "        persistenceResult_df.loc[k, 'MAE'] = mean_absolute_error(test, pred)  # MAE\n",
    "        persistenceResult_df.loc[k, 'nMAE'] = mean_absolute_error(test, pred) / np.mean(test)  # nMAE\n",
    "        persistenceResult_df.loc[k, 'R2'] = r2_score(test, pred)  # R2\n",
    "        persistenceResult_df.loc[k, 'MBE'] = MBE(test, pred)  # MBE\n",
    "        persistenceResult_df.loc[k, 'maxNormError'] = max_error(test, pred)  # Maximum normalized error\n",
    "\n",
    "    else:\n",
    "        print(f\"File not found: {file_path}\")\n",
    "\n",
    "csv_file_path = os.path.join(reportPersistence_dir, 'persistence_results.csv')\n",
    "persistenceResult_df.to_csv(csv_file_path, index=False)\n",
    "\n",
    "print(f\"Persistence performance report exported to {csv_file_path}\")"
   ]
  },
  {
   "cell_type": "code",
   "execution_count": null,
   "id": "d07237d6-f547-48cf-a12b-c757e4870d9c",
   "metadata": {},
   "outputs": [],
   "source": []
  }
 ],
 "metadata": {
  "kernelspec": {
   "display_name": "Python 3 (ipykernel)",
   "language": "python",
   "name": "python3"
  },
  "language_info": {
   "codemirror_mode": {
    "name": "ipython",
    "version": 3
   },
   "file_extension": ".py",
   "mimetype": "text/x-python",
   "name": "python",
   "nbconvert_exporter": "python",
   "pygments_lexer": "ipython3",
   "version": "3.12.4"
  }
 },
 "nbformat": 4,
 "nbformat_minor": 5
}
