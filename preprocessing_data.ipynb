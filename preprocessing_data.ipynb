{
 "cells": [
  {
   "cell_type": "markdown",
   "id": "c6233f7c-e483-4cd5-a855-111a18f0f9a1",
   "metadata": {},
   "source": [
    "*Importing libraries*"
   ]
  },
  {
   "cell_type": "code",
   "execution_count": 43,
   "id": "cf91fd8a-a4e6-41fa-abf4-d857f891ba87",
   "metadata": {},
   "outputs": [],
   "source": [
    "import pandas as pd\n",
    "import glob\n",
    "import matplotlib.pyplot as plt\n",
    "import numpy as np \n",
    "import pvlib\n",
    "import os\n",
    "from pvlib import clearsky, atmosphere, solarposition\n",
    "from pvlib.location import Location\n",
    "from pvlib.iotools import read_tmy3\n",
    "\n",
    "import warnings\n",
    "warnings.filterwarnings(\"ignore\")"
   ]
  },
  {
   "cell_type": "markdown",
   "id": "79620059-a9d1-4573-9509-8026aa3a19b1",
   "metadata": {},
   "source": [
    "*Importing data*"
   ]
  },
  {
   "cell_type": "code",
   "execution_count": 44,
   "id": "7767be9c-26a1-4fbe-865d-5c13adc4de71",
   "metadata": {},
   "outputs": [],
   "source": [
    "file_path = \"C:\\\\Users\\\\shari\\\\Desktop\\\\MNRE\\\\raw_data\\\\GHI_raw_\""
   ]
  },
  {
   "cell_type": "code",
   "execution_count": 45,
   "id": "d133d862-263b-4f90-b9c2-9109040c0597",
   "metadata": {},
   "outputs": [],
   "source": [
    "years = range(2020, 2024 + 1)"
   ]
  },
  {
   "cell_type": "code",
   "execution_count": 46,
   "id": "fae6231b-7f5b-409b-8e15-02ab21262989",
   "metadata": {},
   "outputs": [],
   "source": [
    "dfs = []\n",
    "for year in years:\n",
    "    file_path_temp = f\"{file_path}{year}.csv\"\n",
    "    if os.path.exists(file_path_temp):\n",
    "        df_temp = pd.read_csv(file_path_temp)\n",
    "        dfs.append(df_temp)"
   ]
  },
  {
   "cell_type": "code",
   "execution_count": 47,
   "id": "02ad1422-f5fb-49c3-884c-38c7c1db8ca1",
   "metadata": {},
   "outputs": [],
   "source": [
    "GHI_df = pd.concat(dfs, ignore_index=True)"
   ]
  },
  {
   "cell_type": "code",
   "execution_count": 48,
   "id": "7d15c092-62e3-433b-a33f-8549ddacd27e",
   "metadata": {},
   "outputs": [],
   "source": [
    "GHI_df['datetime'] = pd.to_datetime(GHI_df['datetime'], format=\"%d-%m-%Y %H:%M\", errors='coerce')\n"
   ]
  },
  {
   "cell_type": "code",
   "execution_count": 49,
   "id": "895a8c21-74ad-41a7-a75b-e0c4b24424bb",
   "metadata": {},
   "outputs": [],
   "source": [
    "GHI_df.set_index('datetime', inplace=True)"
   ]
  },
  {
   "cell_type": "code",
   "execution_count": 50,
   "id": "2ac4101f-6021-4cc8-832b-0dc8d170f957",
   "metadata": {},
   "outputs": [
    {
     "name": "stdout",
     "output_type": "stream",
     "text": [
      "Number of GHI_df measurements: 8770365\n",
      "Number of NA: 402012\n"
     ]
    },
    {
     "data": {
      "text/html": [
       "<div>\n",
       "<style scoped>\n",
       "    .dataframe tbody tr th:only-of-type {\n",
       "        vertical-align: middle;\n",
       "    }\n",
       "\n",
       "    .dataframe tbody tr th {\n",
       "        vertical-align: top;\n",
       "    }\n",
       "\n",
       "    .dataframe thead th {\n",
       "        text-align: right;\n",
       "    }\n",
       "</style>\n",
       "<table border=\"1\" class=\"dataframe\">\n",
       "  <thead>\n",
       "    <tr style=\"text-align: right;\">\n",
       "      <th></th>\n",
       "      <th>GHI</th>\n",
       "      <th>dateandtime</th>\n",
       "    </tr>\n",
       "    <tr>\n",
       "      <th>datetime</th>\n",
       "      <th></th>\n",
       "      <th></th>\n",
       "    </tr>\n",
       "  </thead>\n",
       "  <tbody>\n",
       "    <tr>\n",
       "      <th>2020-01-01 00:00:00</th>\n",
       "      <td>3.046</td>\n",
       "      <td>NaN</td>\n",
       "    </tr>\n",
       "    <tr>\n",
       "      <th>2020-01-01 00:00:00</th>\n",
       "      <td>3.118</td>\n",
       "      <td>NaN</td>\n",
       "    </tr>\n",
       "    <tr>\n",
       "      <th>2020-01-01 00:00:00</th>\n",
       "      <td>3.027</td>\n",
       "      <td>NaN</td>\n",
       "    </tr>\n",
       "    <tr>\n",
       "      <th>2020-01-01 00:00:00</th>\n",
       "      <td>2.961</td>\n",
       "      <td>NaN</td>\n",
       "    </tr>\n",
       "    <tr>\n",
       "      <th>2020-01-01 00:00:00</th>\n",
       "      <td>3.018</td>\n",
       "      <td>NaN</td>\n",
       "    </tr>\n",
       "    <tr>\n",
       "      <th>2020-01-01 00:00:00</th>\n",
       "      <td>2.973</td>\n",
       "      <td>NaN</td>\n",
       "    </tr>\n",
       "    <tr>\n",
       "      <th>2020-01-01 00:01:00</th>\n",
       "      <td>2.996</td>\n",
       "      <td>NaN</td>\n",
       "    </tr>\n",
       "    <tr>\n",
       "      <th>2020-01-01 00:01:00</th>\n",
       "      <td>3.007</td>\n",
       "      <td>NaN</td>\n",
       "    </tr>\n",
       "    <tr>\n",
       "      <th>2020-01-01 00:01:00</th>\n",
       "      <td>3.018</td>\n",
       "      <td>NaN</td>\n",
       "    </tr>\n",
       "    <tr>\n",
       "      <th>2020-01-01 00:01:00</th>\n",
       "      <td>2.975</td>\n",
       "      <td>NaN</td>\n",
       "    </tr>\n",
       "  </tbody>\n",
       "</table>\n",
       "</div>"
      ],
      "text/plain": [
       "                       GHI dateandtime\n",
       "datetime                              \n",
       "2020-01-01 00:00:00  3.046         NaN\n",
       "2020-01-01 00:00:00  3.118         NaN\n",
       "2020-01-01 00:00:00  3.027         NaN\n",
       "2020-01-01 00:00:00  2.961         NaN\n",
       "2020-01-01 00:00:00  3.018         NaN\n",
       "2020-01-01 00:00:00  2.973         NaN\n",
       "2020-01-01 00:01:00  2.996         NaN\n",
       "2020-01-01 00:01:00  3.007         NaN\n",
       "2020-01-01 00:01:00  3.018         NaN\n",
       "2020-01-01 00:01:00  2.975         NaN"
      ]
     },
     "execution_count": 50,
     "metadata": {},
     "output_type": "execute_result"
    }
   ],
   "source": [
    "print(\"Number of GHI_df measurements: \" + str(GHI_df.shape[0]))\n",
    "\n",
    "print(\"Number of NA: \" + str(GHI_df['GHI'].isnull().sum()))\n",
    "\n",
    "GHI_df.head(10)"
   ]
  },
  {
   "cell_type": "markdown",
   "id": "43d76303-d6da-40b8-92f3-71e5163e4fd1",
   "metadata": {},
   "source": [
    "*Step 1- Removal of missing values*"
   ]
  },
  {
   "cell_type": "code",
   "execution_count": 53,
   "id": "14d2b165-519a-4574-9331-c4797a6894b1",
   "metadata": {},
   "outputs": [
    {
     "name": "stdout",
     "output_type": "stream",
     "text": [
      "Number of GHI measurements to interpolate: 1086\n"
     ]
    }
   ],
   "source": [
    "# Define a threshold for the maximum number of consecutive missing values allowed\n",
    "threshold = 1\n",
    "\n",
    "# Identify and remove high-density consecutive missing values\n",
    "def remove_consecutive_nan(df, column, threshold):\n",
    "    bool_series = df[column].isnull()\n",
    "    df['block'] = (bool_series.diff(1) != 0).astype('int').cumsum()\n",
    "    df = df[~((df[column].isnull()) & (df.groupby('block')['block'].transform('size') > threshold))]\n",
    "    df = df.drop('block', axis=1)\n",
    "    return df\n",
    "\n",
    "GHI_df = remove_consecutive_nan(GHI_df, 'GHI', threshold)\n",
    "\n",
    "print('Number of GHI measurements to interpolate: ' + str(GHI_df['GHI'].isnull().sum()))"
   ]
  },
  {
   "cell_type": "code",
   "execution_count": 54,
   "id": "607d3666-fecd-4371-8c7a-f5b1fb25ba0e",
   "metadata": {},
   "outputs": [
    {
     "name": "stdout",
     "output_type": "stream",
     "text": [
      "Number of NaNs: 0\n",
      "Number of GHI measurements: 8369439\n"
     ]
    }
   ],
   "source": [
    "GHI_df['GHI'] = GHI_df['GHI'].interpolate()\n",
    "\n",
    "print('Number of NaNs: ' + str(GHI_df['GHI'].isnull().sum()))\n",
    "print(\"Number of GHI measurements: \" + str(GHI_df.shape[0]))"
   ]
  },
  {
   "cell_type": "markdown",
   "id": "8c9ee5d1-72f5-4021-87d5-17f984401866",
   "metadata": {},
   "source": [
    "*Step 2- Identification and removal of outliers*"
   ]
  },
  {
   "cell_type": "code",
   "execution_count": 55,
   "id": "cb912e48-0796-42f0-bf4b-3838e580f752",
   "metadata": {},
   "outputs": [
    {
     "name": "stdout",
     "output_type": "stream",
     "text": [
      "Number of GHI measurements: 8262567\n"
     ]
    }
   ],
   "source": [
    "GHI_max = 1000\n",
    "GHI_min = 0\n",
    "\n",
    "GHI_df = GHI_df[(GHI_df[\"GHI\"] < GHI_max) & (GHI_df[\"GHI\"] > GHI_min)]\n",
    "print(\"Number of GHI measurements: \" + str(GHI_df.shape[0]))"
   ]
  },
  {
   "cell_type": "markdown",
   "id": "2fee5c2c-df83-4a2a-a3ea-4c8f2e38b66d",
   "metadata": {},
   "source": [
    "*Step 3- Clear sky global horizontal irradiance (GHIcs)"
   ]
  },
  {
   "cell_type": "code",
   "execution_count": 56,
   "id": "229553c2-b648-432d-b740-d5b8e2bc0bbd",
   "metadata": {},
   "outputs": [],
   "source": [
    "latitude = 46.518\n",
    "longitude = 6.565\n",
    "time_zone = 'Europe/Zurich'\n",
    "altitude = 400\n",
    "place = 'Ecublens'\n",
    "frequency = '10S'\n",
    "\n",
    "tus = Location(latitude, longitude, time_zone, altitude, place)\n",
    "\n",
    "cs = tus.get_clearsky(GHI_df.index)\n",
    "GHI_df['GHIcs'] = cs.ghi\n"
   ]
  },
  {
   "cell_type": "code",
   "execution_count": null,
   "id": "7f50d889-2d9a-438c-9fed-c2f40a30da96",
   "metadata": {},
   "outputs": [],
   "source": []
  }
 ],
 "metadata": {
  "kernelspec": {
   "display_name": "Python 3 (ipykernel)",
   "language": "python",
   "name": "python3"
  },
  "language_info": {
   "codemirror_mode": {
    "name": "ipython",
    "version": 3
   },
   "file_extension": ".py",
   "mimetype": "text/x-python",
   "name": "python",
   "nbconvert_exporter": "python",
   "pygments_lexer": "ipython3",
   "version": "3.12.4"
  }
 },
 "nbformat": 4,
 "nbformat_minor": 5
}
